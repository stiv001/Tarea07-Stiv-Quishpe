{
 "cells": [
  {
   "cell_type": "markdown",
   "metadata": {},
   "source": [
    "# Escuela Politécnica Nacional\n",
    "\n",
    "## Nombre: Stiv Quishpe \n",
    "\n",
    "Resolver los literales 3 y 4 "
   ]
  },
  {
   "cell_type": "markdown",
   "metadata": {},
   "source": [
    "3) Diríjase al pseudocódigo del spline cúbico con frontera natural provisto en clase, en base a ese pseudocódigo complete la siguiente función:"
   ]
  },
  {
   "cell_type": "code",
   "execution_count": 1,
   "metadata": {},
   "outputs": [
    {
     "data": {
      "text/latex": [
       "$\\displaystyle 1.5 x^{3} - 0.5 x - 5$"
      ],
      "text/plain": [
       "1.5*x**3 - 0.5*x - 5"
      ]
     },
     "metadata": {},
     "output_type": "display_data"
    },
    {
     "data": {
      "text/latex": [
       "$\\displaystyle 4.0 x - 1.5 \\left(x - 1\\right)^{3} + 4.5 \\left(x - 1\\right)^{2} - 8.0$"
      ],
      "text/plain": [
       "4.0*x - 1.5*(x - 1)**3 + 4.5*(x - 1)**2 - 8.0"
      ]
     },
     "metadata": {},
     "output_type": "display_data"
    },
    {
     "name": "stdout",
     "output_type": "stream",
     "text": [
      "______\n"
     ]
    },
    {
     "data": {
      "text/latex": [
       "$\\displaystyle 1.5 x^{3} - 0.5 x - 5$"
      ],
      "text/plain": [
       "1.5*x**3 - 0.5*x - 5"
      ]
     },
     "metadata": {},
     "output_type": "display_data"
    },
    {
     "data": {
      "text/latex": [
       "$\\displaystyle - 1.5 x^{3} + 9.0 x^{2} - 9.5 x - 2.0$"
      ],
      "text/plain": [
       "-1.5*x**3 + 9.0*x**2 - 9.5*x - 2.0"
      ]
     },
     "metadata": {},
     "output_type": "display_data"
    }
   ],
   "source": [
    "import sympy as sym\n",
    "from IPython.display import display\n",
    "\n",
    "# Definir la función para la interpolación cúbica\n",
    "def spline_cubica(xs: list[float], ys: list[float]) -> list[sym.Symbol]:\n",
    "    \"\"\"\n",
    "    Interpolación cúbica ``S``. Cada dos puntos se interpolan mediante un polinomio cúbico\n",
    "    ``S_j`` de la forma ``S_j(x) = a_j + b_j(x - x_j) + c_j(x - x_j)^2 + d_j(x - x_j)^3.``\n",
    "\n",
    "    xs deben ser diferentes pero no necesariamente ordenados ni igualmente espaciados.\n",
    "\n",
    "    ## Parámetros\n",
    "    - xs, ys: puntos a interpolar\n",
    "\n",
    "    ## Retorno\n",
    "    - Lista de expresiones simbólicas para la interpolación cúbica.\n",
    "    \"\"\"\n",
    "\n",
    "    puntos = sorted(zip(xs, ys), key=lambda x: x[0])  # ordenar puntos por x\n",
    "\n",
    "    xs = [x for x, _ in puntos]\n",
    "    ys = [y for _, y in puntos]\n",
    "\n",
    "    n = len(puntos) - 1  # número de splines\n",
    "\n",
    "    h = [xs[i + 1] - xs[i] for i in range(n)]  # distancias entre xs contiguos\n",
    "\n",
    "    # Calcular alpha\n",
    "    alpha = [0] * (n + 1)\n",
    "    for i in range(1, n):\n",
    "        alpha[i] = 3 / h[i] * (ys[i + 1] - ys[i]) - 3 / h[i - 1] * (ys[i] - ys[i - 1])\n",
    "\n",
    "    # Resolver el sistema tridiagonal\n",
    "    l = [1]\n",
    "    u = [0]\n",
    "    z = [0]\n",
    "\n",
    "    for i in range(1, n):\n",
    "        l.append(2 * (xs[i + 1] - xs[i - 1]) - h[i - 1] * u[i - 1])\n",
    "        u.append(h[i] / l[i])\n",
    "        z.append((alpha[i] - h[i - 1] * z[i - 1]) / l[i])\n",
    "\n",
    "    l.append(1)\n",
    "    z.append(0)\n",
    "    c = [0] * (n + 1)\n",
    "\n",
    "    x = sym.Symbol(\"x\")\n",
    "    splines = []\n",
    "    for j in range(n - 1, -1, -1):\n",
    "        c[j] = z[j] - u[j] * c[j + 1]\n",
    "        b = (ys[j + 1] - ys[j]) / h[j] - h[j] * (c[j + 1] + 2 * c[j]) / 3\n",
    "        d = (c[j + 1] - c[j]) / (3 * h[j])\n",
    "        a = ys[j]\n",
    "        S = a + b * (x - xs[j]) + c[j] * (x - xs[j])**2 + d * (x - xs[j])**3\n",
    "\n",
    "        splines.append(S)\n",
    "    splines.reverse()\n",
    "    return splines\n",
    "\n",
    "\n",
    "# Probar con puntos\n",
    "xs = [0, 1, 2]\n",
    "ys = [-5, -4, 3]\n",
    "\n",
    "splines = spline_cubica(xs=xs, ys=ys)\n",
    "_ = [display(s) for s in splines]\n",
    "print(\"______\")\n",
    "_ = [display(s.expand()) for s in splines]\n"
   ]
  },
  {
   "attachments": {
    "image.png": {
     "image/png": "[encoded data removed]"
    }
   },
   "cell_type": "markdown",
   "metadata": {},
   "source": [
    "![image.png](attachment:image.png)"
   ]
  },
  {
   "cell_type": "code",
   "execution_count": 3,
   "metadata": {},
   "outputs": [
    {
     "data": {
      "text/latex": [
       "$\\displaystyle - 3.5 x + 1.5 \\left(x - 1\\right)^{3} + 6.5$"
      ],
      "text/plain": [
       "-3.5*x + 1.5*(x - 1)**3 + 6.5"
      ]
     },
     "metadata": {},
     "output_type": "display_data"
    },
    {
     "data": {
      "text/latex": [
       "$\\displaystyle 1.0 x - 1.5 \\left(x - 2\\right)^{3} + 4.5 \\left(x - 2\\right)^{2} - 1.0$"
      ],
      "text/plain": [
       "1.0*x - 1.5*(x - 2)**3 + 4.5*(x - 2)**2 - 1.0"
      ]
     },
     "metadata": {},
     "output_type": "display_data"
    },
    {
     "name": "stdout",
     "output_type": "stream",
     "text": [
      "______\n"
     ]
    },
    {
     "data": {
      "text/latex": [
       "$\\displaystyle 1.5 x^{3} - 4.5 x^{2} + 1.0 x + 5.0$"
      ],
      "text/plain": [
       "1.5*x**3 - 4.5*x**2 + 1.0*x + 5.0"
      ]
     },
     "metadata": {},
     "output_type": "display_data"
    },
    {
     "data": {
      "text/latex": [
       "$\\displaystyle - 1.5 x^{3} + 13.5 x^{2} - 35.0 x + 29.0$"
      ],
      "text/plain": [
       "-1.5*x**3 + 13.5*x**2 - 35.0*x + 29.0"
      ]
     },
     "metadata": {},
     "output_type": "display_data"
    }
   ],
   "source": [
    "import sympy as sym\n",
    "from IPython.display import display\n",
    "\n",
    "# Definir la función para la interpolación cúbica\n",
    "def spline_cubica(xs: list[float], ys: list[float]) -> list[sym.Symbol]:\n",
    "    \"\"\"\n",
    "    Interpolación cúbica ``S``. Cada dos puntos se interpolan mediante un polinomio cúbico\n",
    "    ``S_j`` de la forma ``S_j(x) = a_j + b_j(x - x_j) + c_j(x - x_j)^2 + d_j(x - x_j)^3.``\n",
    "    \n",
    "    xs deben ser diferentes pero no necesariamente ordenados ni igualmente espaciados.\n",
    "\n",
    "    ## Parámetros\n",
    "    - xs, ys: puntos a interpolar\n",
    "\n",
    "    ## Retorno\n",
    "    - Lista de expresiones simbólicas para la interpolación cúbica.\n",
    "    \"\"\"\n",
    "\n",
    "    puntos = sorted(zip(xs, ys), key=lambda x: x[0])  # ordenar puntos por x\n",
    "\n",
    "    xs = [x for x, _ in puntos]\n",
    "    ys = [y for _, y in puntos]\n",
    "\n",
    "    n = len(puntos) - 1  # número de splines\n",
    "\n",
    "    h = [xs[i + 1] - xs[i] for i in range(n)]  # distancias entre xs contiguos\n",
    "\n",
    "    # Calcular alpha\n",
    "    alpha = [0] * (n + 1)\n",
    "    for i in range(1, n):\n",
    "        alpha[i] = 3 / h[i] * (ys[i + 1] - ys[i]) - 3 / h[i - 1] * (ys[i] - ys[i - 1])\n",
    "\n",
    "    # Resolver el sistema tridiagonal\n",
    "    l = [1]\n",
    "    u = [0]\n",
    "    z = [0]\n",
    "\n",
    "    for i in range(1, n):\n",
    "        l.append(2 * (xs[i + 1] - xs[i - 1]) - h[i - 1] * u[i - 1])\n",
    "        u.append(h[i] / l[i])\n",
    "        z.append((alpha[i] - h[i - 1] * z[i - 1]) / l[i])\n",
    "\n",
    "    l.append(1)\n",
    "    z.append(0)\n",
    "    c = [0] * (n + 1)\n",
    "\n",
    "    x = sym.Symbol(\"x\")\n",
    "    splines = []\n",
    "    for j in range(n - 1, -1, -1):\n",
    "        c[j] = z[j] - u[j] * c[j + 1]\n",
    "        b = (ys[j + 1] - ys[j]) / h[j] - h[j] * (c[j + 1] + 2 * c[j]) / 3\n",
    "        d = (c[j + 1] - c[j]) / (3 * h[j])\n",
    "        a = ys[j]\n",
    "        S = a + b * (x - xs[j]) + c[j] * (x - xs[j])**2 + d * (x - xs[j])**3\n",
    "\n",
    "        splines.append(S)\n",
    "    splines.reverse()\n",
    "    return splines\n",
    "\n",
    "# Probar con puntos\n",
    "xs = [1, 2, 3]\n",
    "ys = [3, 1, 5]\n",
    "\n",
    "splines = spline_cubica(xs=xs, ys=ys)\n",
    "_ = [display(s) for s in splines]\n",
    "print(\"______\")\n",
    "_ = [display(s.expand()) for s in splines]\n"
   ]
  }
 ],
 "metadata": {
  "kernelspec": {
   "display_name": "Python 3",
   "language": "python",
   "name": "python3"
  },
  "language_info": {
   "codemirror_mode": {
    "name": "ipython",
    "version": 3
   },
   "file_extension": ".py",
   "mimetype": "text/x-python",
   "name": "python",
   "nbconvert_exporter": "python",
   "pygments_lexer": "ipython3",
   "version": "3.13.0"
  }
 },
 "nbformat": 4,
 "nbformat_minor": 2
}
